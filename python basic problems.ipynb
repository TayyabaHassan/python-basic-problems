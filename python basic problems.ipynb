{
 "cells": [
  {
   "cell_type": "markdown",
   "metadata": {
    "vscode": {
     "languageId": "plaintext"
    }
   },
   "source": [
    "1. Write a Python function called recursive_factorial that calculates the factorial of a number using\n",
    "recursion. Ensure it handles edge cases like negative numbers and zero.\n"
   ]
  },
  {
   "cell_type": "code",
   "execution_count": null,
   "metadata": {},
   "outputs": [],
   "source": [
    "def recursive_factorial(n):\n",
    "    if n < 0:\n",
    "        return \"Factorial not defined for negative numbers\"\n",
    "    elif n == 0 or n == 1:\n",
    "        return 1\n",
    "    else:\n",
    "        return n * recursive_factorial(n - 1)\n",
    "\n",
    "print(recursive_factorial(5))   \n",
    "print(recursive_factorial(0))  \n",
    "print(recursive_factorial(-3)) \n"
   ]
  },
  {
   "cell_type": "markdown",
   "metadata": {},
   "source": []
  },
  {
   "cell_type": "markdown",
   "metadata": {},
   "source": [
    "2. Write a Python program to generate the first 10 prime numbers using a while loop and conditions. \n",
    "Optimize the solution to skip even numbers after 2."
   ]
  },
  {
   "cell_type": "code",
   "execution_count": null,
   "metadata": {},
   "outputs": [],
   "source": [
    "def prime_frst_n(n):\n",
    "    prime= [2]\n",
    "    num=3\n",
    "    while len(prime) < n:\n",
    "        is_prime=True\n",
    "        for p in range (2,num):\n",
    "            if num % p==0:\n",
    "                is_prime=False\n",
    "                #print(num) # to chk skipping\n",
    "                break\n",
    "        if is_prime:\n",
    "            prime.append(num)\n",
    "        num+=2\n",
    "    return prime\n",
    "\n",
    "print(prime_frst_n(10))    "
   ]
  },
  {
   "cell_type": "markdown",
   "metadata": {},
   "source": [
    "3. Write a Python program to find the longest substring without repeating characters in a given string. For \n",
    "example, for the input \"abcabcbb\", the output should be \"abc\"."
   ]
  },
  {
   "cell_type": "code",
   "execution_count": null,
   "metadata": {},
   "outputs": [],
   "source": [
    "def longest_unique_substring(s):\n",
    "    seen ={}  \n",
    "    start =0 \n",
    "    longest =\"\"\n",
    "    for end,char in enumerate(s):\n",
    "        if char in seen and seen[char] >= start:\n",
    "            start =seen[char]+1\n",
    "        seen[char]= end  \n",
    "        if end - start +1 >len(longest):\n",
    "            longest = s[start:end + 1]\n",
    "    return longest\n",
    "    \n",
    "a=\"abcabcbb\"\n",
    "t=\"wertuuytrewerrttw\"\n",
    "print(longest_unique_substring(a))  \n",
    "print(longest_unique_substring(t)) \n"
   ]
  },
  {
   "cell_type": "markdown",
   "metadata": {
    "vscode": {
     "languageId": "plaintext"
    }
   },
   "source": [
    "4. Use a lambda function to sort a list of dictionaries by a specific key. For example, sort the list     \n",
    "[{\"name\": \"Alice\", \"age\": 25}, {\"name\": \"Bob\", \"age\": 30}] by the \"age\" key."
   ]
  },
  {
   "cell_type": "code",
   "execution_count": null,
   "metadata": {},
   "outputs": [],
   "source": [
    "data = [{\"name\": \"Alice\", \"age\": 25}, {\"name\": \"Bob\", \"age\": 30}]\n",
    "sorted_data = sorted(data, key=lambda x: x[\"age\"])\n",
    "print(sorted_data)\n"
   ]
  },
  {
   "cell_type": "markdown",
   "metadata": {},
   "source": [
    "5. Write a lambda function that takes three arguments (x, y, z) and returns the sum of x and y if z is True, \n",
    "otherwise returns the product of x and y. "
   ]
  },
  {
   "cell_type": "code",
   "execution_count": null,
   "metadata": {},
   "outputs": [],
   "source": [
    "func = lambda x, y, z: x + y if z else x * y\n",
    "\n",
    "print(func(2, 3, True))   \n",
    "print(func(2, 3, False))\n",
    "print(func(2, 5, 0))\n",
    "print(func(2, 3, 2))\n"
   ]
  },
  {
   "cell_type": "markdown",
   "metadata": {},
   "source": [
    "6. Use the map() function to convert a list of temperatures in Celsius [0, 10, 20, 30, 40] to Fahrenheit \n",
    "using the formula F = (C * 9/5) + 32. "
   ]
  },
  {
   "cell_type": "code",
   "execution_count": null,
   "metadata": {},
   "outputs": [],
   "source": [
    "celsius = [0, 10, 20, 37, 40]\n",
    "fahrenheit = list(map(lambda c: (c * 9/5) + 32, celsius))\n",
    "print(fahrenheit)  \n"
   ]
  },
  {
   "cell_type": "markdown",
   "metadata": {},
   "source": [
    "7. Use the filter() function to extract all palindromic numbers from a list of integers. For example, from \n",
    "[121, 123, 1331, 456], the output should be [121, 1331]."
   ]
  },
  {
   "cell_type": "code",
   "execution_count": null,
   "metadata": {},
   "outputs": [],
   "source": [
    "numbers = [121, 123, 13731, 456]\n",
    "palindromes = list(filter(lambda x: str(x) == str(x)[::-1], numbers))\n",
    "\n",
    "print(palindromes)  \n"
   ]
  },
  {
   "cell_type": "markdown",
   "metadata": {},
   "source": [
    "8. Use the reduce() function to find the greatest common divisor (GCD) of a list of numbers. For example, \n",
    "for the list [24, 36, 48], the GCD is 12."
   ]
  },
  {
   "cell_type": "code",
   "execution_count": null,
   "metadata": {},
   "outputs": [],
   "source": [
    "from functools import reduce\n",
    "import math\n",
    "numbers = [24, 36, 48]\n",
    "gcd_result = reduce(math.gcd, numbers)\n",
    "\n",
    "print(gcd_result)\n"
   ]
  },
  {
   "cell_type": "markdown",
   "metadata": {},
   "source": [
    "9. Write a Python function called recursive_power that calculates the power of a number using recursion. \n",
    "For example, recursive_power(2, 3) should return 8. Optimize it to handle negative exponents.\n"
   ]
  },
  {
   "cell_type": "code",
   "execution_count": null,
   "metadata": {},
   "outputs": [],
   "source": [
    "def recursive_power(base, exp):\n",
    "    if exp == 0:\n",
    "        return 1\n",
    "    if exp < 0:\n",
    "        return 1 / recursive_power(base, -exp)  \n",
    "    if exp % 2 == 0:\n",
    "        half_power = recursive_power(base, exp // 2)\n",
    "        return half_power * half_power \n",
    "    return base * recursive_power(base, exp - 1)  \n",
    "\n",
    "print(recursive_power(2, 3))   \n",
    "print(recursive_power(2, -3))  \n",
    "print(recursive_power(5, 0))   \n"
   ]
  }
 ],
 "metadata": {
  "kernelspec": {
   "display_name": "Python 3",
   "language": "python",
   "name": "python3"
  },
  "language_info": {
   "name": "python",
   "version": "3.11.9"
  }
 },
 "nbformat": 4,
 "nbformat_minor": 2
}
